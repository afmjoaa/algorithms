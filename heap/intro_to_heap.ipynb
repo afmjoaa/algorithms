{
 "cells": [
  {
   "cell_type": "markdown",
   "id": "f297cd78-0967-4c2b-b770-a82d5f95bab6",
   "metadata": {},
   "source": [
    "#### Heap\n",
    "\n",
    "- Main funtion of heap are: BUIGES -> \n",
    "    1. B-Build-O(n), \n",
    "    2. U-Update-O(n)/O(logn), \n",
    "    3. I-Insert-O(logn), \n",
    "    4. G-Get-O(1), \n",
    "    5. E-Extract-O(logn), \n",
    "    6. S-Search-O(n)"
   ]
  },
  {
   "cell_type": "code",
   "execution_count": null,
   "id": "c365fd22-cbd7-4ae6-92be-99b3d7c2be28",
   "metadata": {},
   "outputs": [],
   "source": []
  }
 ],
 "metadata": {
  "kernelspec": {
   "display_name": "Python 3 (ipykernel)",
   "language": "python",
   "name": "python3"
  },
  "language_info": {
   "codemirror_mode": {
    "name": "ipython",
    "version": 3
   },
   "file_extension": ".py",
   "mimetype": "text/x-python",
   "name": "python",
   "nbconvert_exporter": "python",
   "pygments_lexer": "ipython3",
   "version": "3.9.12"
  }
 },
 "nbformat": 4,
 "nbformat_minor": 5
}
