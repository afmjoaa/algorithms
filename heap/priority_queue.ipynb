{
 "cells": [
  {
   "cell_type": "markdown",
   "id": "5c4e1366-e476-4928-9c10-dc2f6ed15fe0",
   "metadata": {},
   "source": [
    "#### Priority queue\n",
    "\n",
    "- Main functions of priority queue are following. DEPCIS ->\n",
    "    1. D-Dequeue-O(logn) -> Extracting max from the queue\n",
    "    2. E-Enqueue-O(logn) -> Insert an element to the queue\n",
    "    3. P-Peek-O(1) -> Get the first item value\n",
    "    4. C-Change priority-O(n)/O(logn) -> O(logn) with index & O(n) withour index\n",
    "    5. I-Isempty-O(1)\n",
    "    6. S-Search-O(n)"
   ]
  },
  {
   "cell_type": "code",
   "execution_count": null,
   "id": "316db23a-61bd-456e-adb2-bf682cf2e463",
   "metadata": {},
   "outputs": [],
   "source": []
  }
 ],
 "metadata": {
  "kernelspec": {
   "display_name": "Python 3 (ipykernel)",
   "language": "python",
   "name": "python3"
  },
  "language_info": {
   "codemirror_mode": {
    "name": "ipython",
    "version": 3
   },
   "file_extension": ".py",
   "mimetype": "text/x-python",
   "name": "python",
   "nbconvert_exporter": "python",
   "pygments_lexer": "ipython3",
   "version": "3.9.12"
  }
 },
 "nbformat": 4,
 "nbformat_minor": 5
}
