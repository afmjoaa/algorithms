{
 "cells": [
  {
   "cell_type": "markdown",
   "id": "831c22a4-7c5a-4aa4-8504-aa79609d89a0",
   "metadata": {
    "tags": []
   },
   "source": [
    "#### Sliding Window -> Find a window of a 1d data structure \n",
    "\n",
    "- Binary search | Two pointer | Sliding window is very similar, but with some key differences\n",
    "- Need to be sorted to use Binary search. TC = O(logn) and use a middle point, l & r is initialized at boundaries | while l <= r\n",
    "- Two pointer is used most of the time on sorted containers, TC = O(n), l & r is initialized at boundaries | while l < r\n",
    "- Palindrome is just like two pointer but, in case of Palindrome always start at middle, and extend to left and right, like: l=r=i, l--, r++ for odd length pali, and l=i,r=i+1, l--, r++ for even length pali.\n",
    "- Don't need to be sorted to use Sliding window, TC = O(n), l & r is initialized consequtively at start like: 0 & 1 or, 0 & 0 | while r < len(container)\n",
    "\n",
    "##### Examples\n",
    "\n",
    "1. [121. Best Time to Buy and Sell Stock](https://leetcode.com/problems/best-time-to-buy-and-sell-stock/)\n",
    "2. [3. Longest substring without repeating characters](https://leetcode.com/problems/longest-substring-without-repeating-characters/)\n",
    "3. [424. Longest Repeating Character Replacement](https://leetcode.com/problems/longest-repeating-character-replacement/)\n",
    "4. [76. Minimum Window Substring](https://leetcode.com/problems/minimum-window-substring/)\n",
    "---\n",
    "---"
   ]
  },
  {
   "cell_type": "code",
   "execution_count": 10,
   "id": "42f89c5f-e9e6-4e9f-9771-5c46401ea050",
   "metadata": {},
   "outputs": [
    {
     "name": "stdout",
     "output_type": "stream",
     "text": [
      "lengthOfLongestSubstring: 3\n"
     ]
    }
   ],
   "source": [
    "def lengthOfLongestSubstring(s: str) -> int:\n",
    "    hashmap = {}\n",
    "    res = 0\n",
    "    left = 0\n",
    "    \n",
    "    for right in range(len(s)):\n",
    "        \n",
    "        if s[right] in hashmap:\n",
    "            left = max(hashmap[s[right]], left)\n",
    "        \n",
    "        hashmap[s[right]] = right+1\n",
    "        res = max(res, right-left+1)\n",
    "    \n",
    "    return res\n",
    "    \n",
    "print(f'lengthOfLongestSubstring: {lengthOfLongestSubstring(\"abbacabcbb\")}')\n",
    "\n",
    "def lengthOfLongestSubstring(self, s: str) -> int:\n",
    "        hs = set()\n",
    "        res = 0\n",
    "        \n",
    "        l= 0\n",
    "        for r in range(len(s)):\n",
    "            while s[r] in hs:\n",
    "                hs.remove(s[l])\n",
    "                l+=1\n",
    "                \n",
    "            hs.add(s[r])\n",
    "            res = max(res, r-l+1)\n",
    "        \n",
    "        return res"
   ]
  },
  {
   "cell_type": "code",
   "execution_count": null,
   "id": "89d78998-c885-4f66-a620-857863c49e3f",
   "metadata": {},
   "outputs": [],
   "source": []
  }
 ],
 "metadata": {
  "kernelspec": {
   "display_name": "Python 3 (ipykernel)",
   "language": "python",
   "name": "python3"
  },
  "language_info": {
   "codemirror_mode": {
    "name": "ipython",
    "version": 3
   },
   "file_extension": ".py",
   "mimetype": "text/x-python",
   "name": "python",
   "nbconvert_exporter": "python",
   "pygments_lexer": "ipython3",
   "version": "3.9.12"
  }
 },
 "nbformat": 4,
 "nbformat_minor": 5
}
