{
 "cells": [
  {
   "cell_type": "markdown",
   "id": "6d63c6c8-c23f-43f8-acb4-aa02586d7ad2",
   "metadata": {},
   "source": [
    "#### Intervals -> A window between a start and end point. exp. (<--->  <-------><---->) \n",
    "\n",
    "- Intervals can be overlapping.\n",
    "- 4 case can happen. \n",
    "    1. before overlap\n",
    "    2. after overlap\n",
    "    3. both befor and after overlap\n",
    "    4. inbetween overlap\n",
    "    5. exceeding overlap\n",
    "- Sorting can reduce the 5 case to 2 or 3\n",
    "- Always think with two intervals at a time. Merge them and then move to next\n",
    "\n",
    "##### Examples\n",
    "\n",
    "1. [56 -> Merge intervals](https://leetcode.com/problems/merge-intervals/) \n",
    "2. [57 -> Insert interval](https://leetcode.com/problems/insert-interval/)\n",
    "3. [435 -> Non-Overlapping intervals](https://leetcode.com/problems/non-overlapping-intervals/)\n",
    "4. [1288 -> Remove covered intervals](https://leetcode.com/problems/remove-covered-intervals/)\n",
    "---\n",
    "---"
   ]
  },
  {
   "cell_type": "markdown",
   "id": "1e1d227c-1cd0-4a3e-a226-482d8556e4dd",
   "metadata": {},
   "source": [
    "#### Merge interval solutions\n",
    "1. greedy O(nlogn)\n",
    "\n",
    "---\n",
    "Greedy approach  \n",
    "Time complexity -> O(nlogn)  \n",
    "Memory complexity -> O(n)"
   ]
  },
  {
   "cell_type": "code",
   "execution_count": 8,
   "id": "b04c5848-44d9-4d0f-b9ea-b9bd76717140",
   "metadata": {},
   "outputs": [
    {
     "name": "stdout",
     "output_type": "stream",
     "text": [
      "Merge res: [[1, 6], [8, 10], [15, 18]]\n"
     ]
    }
   ],
   "source": [
    "def merge(intervals: list[list[int]]) -> list[list[int]]:\n",
    "    intervals.sort(key = lambda i: i[0])\n",
    "    res = [intervals[0]]\n",
    "    \n",
    "    for start, end in intervals[1:]:\n",
    "        lastend = res[-1][1]\n",
    "        if start<=lastend:\n",
    "            res[-1][1] = max(lastend, end)\n",
    "        else:\n",
    "            res.append([start, end])\n",
    "    return res\n",
    "\n",
    "print(f'Merge res: {merge([[1,3],[2,6],[8,10],[15,18]])}')"
   ]
  },
  {
   "cell_type": "markdown",
   "id": "46bae7b2-45ff-48c3-9fe6-e6615f3bf136",
   "metadata": {},
   "source": [
    "---\n",
    "---\n",
    "#### Insert interval solutions\n",
    "1. greedy O(nlogn)\n",
    "\n",
    "---\n",
    "Greedy approach  \n",
    "Time complexity -> O(n)  \n",
    "Memory complexity -> O(n)"
   ]
  },
  {
   "cell_type": "code",
   "execution_count": 7,
   "id": "ca354394-0dd2-4fad-8567-0d542b86aedc",
   "metadata": {},
   "outputs": [
    {
     "name": "stdout",
     "output_type": "stream",
     "text": [
      "Insert res: [[1, 5], [6, 9]]\n"
     ]
    }
   ],
   "source": [
    "def insert(intervals: list[list[int]], newInterval: list[int]) -> list[list[int]]:\n",
    "    res = []\n",
    "    \n",
    "    for i in range(len(intervals)):\n",
    "        if intervals[i][0] > newInterval[1]:\n",
    "            res.append(newInterval)\n",
    "            return res + intervals[i:]\n",
    "        elif intervals[i][1] < newInterval[0]:\n",
    "            res.append(intervals[i])\n",
    "        else:\n",
    "            newInterval = [min(intervals[i][0], newInterval[0]), max(intervals[i][1], newInterval[1])]\n",
    "    \n",
    "    res.append(newInterval)\n",
    "    return res\n",
    "\n",
    "print(f'Insert res: {insert([[1,3],[6,9]],[2,5])}')"
   ]
  },
  {
   "cell_type": "markdown",
   "id": "fad65170-5f9f-469e-8edd-798587c11179",
   "metadata": {},
   "source": [
    "---\n",
    "---\n",
    "#### Non-Overlapping intervals solutions  \n",
    "Here [1,2] & [2,3] isn't considered overlapping\n",
    "1. greedy O(nlogn)\n",
    "\n",
    "---\n",
    "Greedy approach  \n",
    "Time complexity -> O(nlogn)  \n",
    "Memory complexity -> O(1)"
   ]
  },
  {
   "cell_type": "code",
   "execution_count": null,
   "id": "f38b8e2b-f6b3-4f67-a10f-d20c1474502b",
   "metadata": {},
   "outputs": [
    {
     "name": "stdout",
     "output_type": "stream",
     "text": [
      "Removed intervals: 1\n"
     ]
    }
   ],
   "source": [
    "def eraseOverlapIntervals(intervals: list[list[int]]) -> int:\n",
    "    intervals.sort()\n",
    "    count = 0\n",
    "    lastend = intervals[0][1]\n",
    "\n",
    "    for start, end in intervals[1:]:\n",
    "        if start < lastend:\n",
    "            count+=1\n",
    "            lastend = min(end, lastend)\n",
    "        else:\n",
    "            lastend = end\n",
    "\n",
    "    return count\n",
    "\n",
    "print(f'Removed intervals: {eraseOverlapIntervals([[1,2],[2,3],[3,4],[1,3]])}')"
   ]
  },
  {
   "cell_type": "markdown",
   "id": "19b586ff-214c-48ab-8670-4adf060f2dd9",
   "metadata": {},
   "source": [
    "---\n",
    "---\n",
    "#### Remove covered intervals solutions\n",
    "Here [1,2] & [1,2] is considered covered\n",
    "1. greedy O(nlogn)\n",
    "\n",
    "---\n",
    "Greedy approach  \n",
    "Time complexity -> O(nlogn)  \n",
    "Memory complexity -> O(n)"
   ]
  },
  {
   "cell_type": "code",
   "execution_count": 11,
   "id": "0d3aa37c-08df-49ce-b000-dee47eb1a35b",
   "metadata": {},
   "outputs": [
    {
     "name": "stdout",
     "output_type": "stream",
     "text": [
      "Convered intervals: 2\n"
     ]
    }
   ],
   "source": [
    "def removeCoveredIntervals(intervals: list[list[int]]) -> int:\n",
    "    intervals.sort(key = lambda i: (i[0], -i[1]))\n",
    "    res = [intervals[0]]\n",
    "\n",
    "    for l,r in intervals[1:]:     \n",
    "        prel, prer = res[-1]\n",
    "        if prel<=l and prer>=r:\n",
    "            continue\n",
    "        res.append([l,r])\n",
    "\n",
    "    return len(res)\n",
    "\n",
    "print(f'Convered intervals: {removeCoveredIntervals([[1,4],[3,6],[2,8]])}')"
   ]
  }
 ],
 "metadata": {
  "kernelspec": {
   "display_name": "Python 3 (ipykernel)",
   "language": "python",
   "name": "python3"
  },
  "language_info": {
   "codemirror_mode": {
    "name": "ipython",
    "version": 3
   },
   "file_extension": ".py",
   "mimetype": "text/x-python",
   "name": "python",
   "nbconvert_exporter": "python",
   "pygments_lexer": "ipython3",
   "version": "3.9.12"
  }
 },
 "nbformat": 4,
 "nbformat_minor": 5
}
