{
 "cells": [
  {
   "cell_type": "markdown",
   "id": "590dad86-8025-4f53-bafb-9af196ee1313",
   "metadata": {},
   "source": [
    "1. Prims or Kruskal (Minimum spanning tree)\n",
    "2. Floyd Warshall's algorithm"
   ]
  },
  {
   "cell_type": "code",
   "execution_count": null,
   "id": "662fc7b9-5349-47ee-a0fd-07c6326d847e",
   "metadata": {},
   "outputs": [],
   "source": []
  }
 ],
 "metadata": {
  "kernelspec": {
   "display_name": "Python 3 (ipykernel)",
   "language": "python",
   "name": "python3"
  },
  "language_info": {
   "codemirror_mode": {
    "name": "ipython",
    "version": 3
   },
   "file_extension": ".py",
   "mimetype": "text/x-python",
   "name": "python",
   "nbconvert_exporter": "python",
   "pygments_lexer": "ipython3",
   "version": "3.9.12"
  }
 },
 "nbformat": 4,
 "nbformat_minor": 5
}
