{
 "cells": [
  {
   "cell_type": "code",
   "execution_count": 6,
   "id": "337955c5-3164-4da6-8584-0388f8dca664",
   "metadata": {},
   "outputs": [],
   "source": [
    "# Setting up the board\n",
    "from typing import (\n",
    "    List,\n",
    ")"
   ]
  },
  {
   "cell_type": "markdown",
   "id": "be2fc715-60da-45d4-a9e0-960c1e5d4f57",
   "metadata": {},
   "source": [
    "#### Topological sort\n",
    "\n",
    "1. Topological sort is a linear sorting of a graph node where two node u and v is sorted in such a order that for every directed edge vertex u will come before vertex v. so u-->v\n",
    "1. A graph need to be directed acyclic graph(DAG) for topological sort to be found.\n",
    "2. A DAG always have at least a node with indegree == 0 and outdegree == 0.\n",
    "3. Longest path between two point in DAG is finite.\n",
    "1. Topological sort (use DFS and graph visited marker to detect cycle)\n",
    "2. Khan's algorithm (use BFS and \n",
    "\n",
    "##### Examples\n",
    "\n",
    "1. [207 -> Course Schedule 1](https://leetcode.com/problems/course-schedule/)\n",
    "1. [210 -> Course Schedule 2](https://leetcode.com/problems/course-schedule-ii/)\n",
    "2. [269 -> Alien Dictonary](https://www.lintcode.com/problem/892/)\n",
    "---"
   ]
  },
  {
   "cell_type": "markdown",
   "id": "ef86a0c4-8e1a-4e49-919e-be58dfd2ed1f",
   "metadata": {},
   "source": [
    "#### Course Schedule 1 solution\n",
    "\n",
    "![Course schedule question image](../src_images/course_schedule_one.png)\n",
    "\n",
    "Time complexity -> O(VE)  \n",
    "Memory complexity -> O(VE)  \n",
    "\n",
    ">**To be noted**\n",
    ">1. Using visit set() to detect cycle, if no cycle is ditected then it's a DAG\n",
    ">2. Using backtracking to complete the prerequisites in order"
   ]
  },
  {
   "cell_type": "code",
   "execution_count": 10,
   "id": "585f2180-de61-4372-ab36-d1a3b34a2539",
   "metadata": {},
   "outputs": [
    {
     "name": "stdout",
     "output_type": "stream",
     "text": [
      "Can complete the courses: True\n",
      "Can complete the courses with cycle: False\n"
     ]
    }
   ],
   "source": [
    " def canFinish(numCourses: int, prerequisites: List[List[int]]) -> bool:\n",
    "        preMap = {i:[] for i in range(numCourses)}\n",
    "        visit = set()\n",
    "        \n",
    "        for crs, pre in prerequisites:\n",
    "            preMap[crs].append(pre)\n",
    "        \n",
    "        def dfs(crs):\n",
    "            if crs in visit:\n",
    "                return False\n",
    "            if not preMap[crs]:\n",
    "                return True\n",
    "            \n",
    "            visit.add(crs)\n",
    "            for pre in preMap[crs]:\n",
    "                if not dfs(pre):\n",
    "                    return False\n",
    "            visit.remove(crs)\n",
    "            preMap[crs] = []\n",
    "            return True\n",
    "        \n",
    "        for i in range(numCourses):\n",
    "            if not dfs(i):\n",
    "                return False\n",
    "        return True\n",
    "    \n",
    "print(f'Can complete the courses: {canFinish(2, [[1,0]])}')\n",
    "print(f'Can complete the courses with cycle: {canFinish(2, [[1,0],[0,1]])}')"
   ]
  },
  {
   "cell_type": "markdown",
   "id": "58b3e013-1ec6-42d2-bfeb-84193dd6dda7",
   "metadata": {},
   "source": [
    "---\n",
    "---\n",
    "#### Course Schedule 2 solution\n",
    "\n",
    "![Course schedule question image](../src_images/course_schedule_two.png)\n",
    "\n",
    "1. Topological sort O(V*E)\n",
    "2. Topological sort using khan's algorithm O(V*E)"
   ]
  },
  {
   "cell_type": "markdown",
   "id": "c6ee1fe5-a987-454e-8181-7c65d63e28a7",
   "metadata": {},
   "source": [
    "\n",
    "---\n",
    "Topological sort   \n",
    "Time complexity -> O(V*E)  \n",
    "Memory complexity -> O(V*E)  \n",
    "\n",
    ">**To be noted**\n",
    ">1. Using visit set() to detect cycle, if no cycle is ditected then it's a DAG\n",
    ">2. Using backtracking to complete the prerequisites in order.\n",
    ">3. After completing all prerequisites for a course adding it to output.\n",
    ">4. Rather then returning True for finishing the course here we return the output.\n",
    ">5. Here we compute the prerequisite map using the prerequisites edge list"
   ]
  },
  {
   "cell_type": "code",
   "execution_count": 4,
   "id": "9b7c9930-98c0-4258-8479-a407f51a2b73",
   "metadata": {},
   "outputs": [
    {
     "name": "stdout",
     "output_type": "stream",
     "text": [
      "Can complete the courses in order: [0, 1]\n",
      "Can complete the courses with cycle in order: []\n"
     ]
    }
   ],
   "source": [
    "def findOrder(numCourses: int, prerequisites: List[List[int]]) -> List[int]:\n",
    "        preMap = { i: [] for i in range(numCourses)}\n",
    "        for crs,pre in prerequisites:\n",
    "            preMap[crs].append(pre)\n",
    "            \n",
    "        visit = set()\n",
    "        output = []\n",
    "        \n",
    "        def dfs(crs):\n",
    "            if crs in visit:\n",
    "                return False\n",
    "            if not preMap[crs]:\n",
    "                if crs not in output:\n",
    "                    output.append(crs)\n",
    "                return True\n",
    "            \n",
    "            visit.add(crs)\n",
    "            for pre in preMap[crs]:\n",
    "                if not dfs(pre): \n",
    "                    return False\n",
    "            visit.remove(crs)\n",
    "            \n",
    "            preMap[crs] = []\n",
    "            output.append(crs)\n",
    "            return True\n",
    "        \n",
    "        for i in range(numCourses):\n",
    "            if dfs(i) == False: \n",
    "                return []\n",
    "        \n",
    "        return output\n",
    "\n",
    "print(f'Can complete the courses in order: {findOrder(2, [[1,0]])}')\n",
    "print(f'Can complete the courses with cycle in order: {findOrder(2, [[1,0],[0,1]])}')"
   ]
  },
  {
   "cell_type": "markdown",
   "id": "9c650bb6-93d5-4b7b-909d-617b3c0eac8b",
   "metadata": {},
   "source": [
    "---\n",
    "Topological sort using khan's algorithm  \n",
    "Time complexity -> O(V*E)  \n",
    "Memory complexity -> O(V*E)  \n",
    "\n",
    ">**To be noted**\n",
    ">1. Using BFS and queue\n",
    ">2. Here we compute adaject list and indegree list using the prerequisite edge list\n",
    ">3. Push all nodes with indegree == 0 to the queue\n",
    ">4. Update all adjacent node indegree by -1\n",
    ">5. If the len(output) < vertices then cycle is present, and can't complete the TS."
   ]
  },
  {
   "cell_type": "code",
   "execution_count": 9,
   "id": "513295b7-269e-4752-b96c-d6188fb9ebaf",
   "metadata": {},
   "outputs": [
    {
     "name": "stdout",
     "output_type": "stream",
     "text": [
      "Can complete the courses in order: [0, 1]\n",
      "Can complete the courses with cycle in order: []\n"
     ]
    }
   ],
   "source": [
    "import collections\n",
    "def findOrder(numCourses: int, prerequisites: List[List[int]]) -> List[int]:\n",
    "        adjmatrix = { i: [] for i in range(numCourses)}\n",
    "        indegree = {i:0 for i in range(numCourses)}\n",
    "        for crs,pre in prerequisites:\n",
    "            adjmatrix[pre].append(crs)\n",
    "            indegree[crs]+=1\n",
    "            \n",
    "        output = []\n",
    "        q = collections.deque()\n",
    "        \n",
    "        for i in range(numCourses):\n",
    "            if indegree[i] == 0:\n",
    "                q.append(i)\n",
    "        \n",
    "        while q:\n",
    "            val = q.popleft()\n",
    "            output.append(val)\n",
    "            \n",
    "            for pre in adjmatrix[val]:\n",
    "                indegree[pre] -=1\n",
    "                if (indegree[pre] == 0):\n",
    "                    q.append(pre)\n",
    "        \n",
    "        return output if len(output) == numCourses else []\n",
    "    \n",
    "print(f'Can complete the courses in order: {findOrder(2, [[1,0]])}')\n",
    "print(f'Can complete the courses with cycle in order: {findOrder(2, [[1,0],[0,1]])}')"
   ]
  },
  {
   "cell_type": "markdown",
   "id": "2a205646-1cd5-4338-a0da-bac354638c95",
   "metadata": {},
   "source": [
    "---\n",
    "---\n",
    "#### Alien Dictonary solution\n",
    "\n",
    "![Alien dictionary image](../src_images/alien_dict.png)\n",
    "\n",
    "1. Topological sort O(V*E)\n",
    "2. Topological sort using heap and khan's algorithm O(V*E)\n",
    "\n",
    "---\n",
    "Topological sort  \n",
    "Time complexity -> O(VE)  \n",
    "Memory complexity -> O(VE)  \n",
    "\n",
    ">**To be noted**\n",
    ">1. Here for basic TS we don't need to use heap \n",
    ">2. But the result is expected in lexographic order that why this solution isn't accepted\n",
    ">3. Example for [abc, ad] both \"abdc\" and \"cbda\" should be axcepted, but that is not the caseOnly loxo graphic order \"abdc\" is accepted.\n",
    ">4. Please note the difference betweeen prerequisites_list and adjency_list and how that reverse the output. Use course schedule 2 example for better understanding.\n"
   ]
  },
  {
   "cell_type": "code",
   "execution_count": 11,
   "id": "fcaea6d4-f02e-472f-9431-3d68b80d1a98",
   "metadata": {},
   "outputs": [
    {
     "name": "stdout",
     "output_type": "stream",
     "text": [
      "Alien non-lexographic order: wertf\n",
      "Alien non-lexographic order: cbda\n"
     ]
    }
   ],
   "source": [
    "def alien_order(words: List[str]) -> str:\n",
    "        adjlist = {c:set() for w in words for c in w}\n",
    "\n",
    "        for i in range(len(words)-1):\n",
    "            w1,w2 = words[i], words[i+1]\n",
    "            minlen = min(len(w1), len(w2))\n",
    "            if len(w1)>len(w2) and w1[:minlen] == w2[:minlen]:\n",
    "                return \"\"\n",
    "            \n",
    "            for j in range(minlen):\n",
    "                if w1[j] != w2[j]:\n",
    "                    adjlist[w1[j]].add(w2[j])\n",
    "                    break\n",
    "\n",
    "        # False if included in result\n",
    "        # True if in the current path not included in result\n",
    "        visit = {}\n",
    "        res = []\n",
    "\n",
    "        def dfs(c):\n",
    "            if c in visit:\n",
    "                return visit[c]\n",
    "\n",
    "            visit[c] = True\n",
    "            for nei in adjlist[c]:\n",
    "                if dfs(nei):\n",
    "                    return True\n",
    "\n",
    "            visit[c] = False\n",
    "            res.append(c)\n",
    "\n",
    "        for c in adjlist:\n",
    "            if dfs(c):\n",
    "                return \"\"\n",
    "        \n",
    "        res.reverse()\n",
    "        return \"\".join(res)\n",
    "    \n",
    "print(f'Alien non-lexographic order: {alien_order([\"wrt\",\"wrf\",\"er\",\"ett\",\"rftt\"])}')\n",
    "print(f'Alien non-lexographic order: {alien_order([\"abc\", \"ad\"])}')"
   ]
  },
  {
   "cell_type": "markdown",
   "id": "1b55fe71-5999-4a87-a4fd-41d5c2c372c8",
   "metadata": {},
   "source": [
    "---\n",
    "Topological sort using heap and khan's algorithm O(V*E)  \n",
    "Time complexity -> O(VE)  \n",
    "Memory complexity -> O(VE)  \n",
    "\n",
    ">**To be noted**\n",
    ">1. Here we are using khan's algorithm and every step we are taking the character after ordering them in lexographical order using heap.\n",
    ">2. We have to use heap instead of queue for taking the character in the lexographical order."
   ]
  },
  {
   "cell_type": "code",
   "execution_count": 12,
   "id": "c2223650-5856-4037-9bc6-076fce7e5f59",
   "metadata": {},
   "outputs": [
    {
     "name": "stdout",
     "output_type": "stream",
     "text": [
      "Alien lexographic order: wertf\n",
      "Alien lexographic order: abcd\n"
     ]
    }
   ],
   "source": [
    "import collections\n",
    "import heapq\n",
    "def alien_order(words: List[str]) -> str:\n",
    "        graph = {c:set() for w in words for c in w}\n",
    "        \n",
    "        for i in range(1, len(words)):\n",
    "            w1, w2 = words[i-1], words[i]\n",
    "            minlen = min(len(w1), len(w2))\n",
    "            if len(w1)>len(w2) and w1[:minlen] == w2[:minlen]:\n",
    "                return \"\"\n",
    "            for j in range(minlen):\n",
    "                if w1[j] != w2[j]:\n",
    "                    graph[w1[j]].add(w2[j])\n",
    "                    break\n",
    "\n",
    "        indegree = collections.defaultdict(int)\n",
    "        for g in graph:\n",
    "            for ne in graph[g]:\n",
    "                indegree[ne] += 1\n",
    "\n",
    "        # q = collections.deque()\n",
    "        # for c in graph:\n",
    "        #     if indegree[c] == 0:\n",
    "        #         q.append(c)\n",
    "        q = [w for w in graph if indegree[w] == 0]\n",
    "        heapq.heapify(q)\n",
    "\n",
    "        order = []\n",
    "        visited = set()\n",
    "        \n",
    "        while q:\n",
    "            # n = q.pop()\n",
    "            n = heapq.heappop(q)\n",
    "\n",
    "            if n in visited:\n",
    "                continue\n",
    "            visited.add(n)\n",
    "            order.append(n)\n",
    "\n",
    "            for ne in graph[n]:\n",
    "                indegree[ne] -= 1\n",
    "                if indegree[ne] == 0:\n",
    "                    # q.append(ne)\n",
    "                    heapq.heappush(q, ne)\n",
    "        return ''.join(order) if len(order) == len(graph) else ''\n",
    "    \n",
    "print(f'Alien lexographic order: {alien_order([\"wrt\",\"wrf\",\"er\",\"ett\",\"rftt\"])}')\n",
    "print(f'Alien lexographic order: {alien_order([\"abc\", \"ad\"])}')"
   ]
  }
 ],
 "metadata": {
  "kernelspec": {
   "display_name": "Python 3 (ipykernel)",
   "language": "python",
   "name": "python3"
  },
  "language_info": {
   "codemirror_mode": {
    "name": "ipython",
    "version": 3
   },
   "file_extension": ".py",
   "mimetype": "text/x-python",
   "name": "python",
   "nbconvert_exporter": "python",
   "pygments_lexer": "ipython3",
   "version": "3.9.12"
  }
 },
 "nbformat": 4,
 "nbformat_minor": 5
}
