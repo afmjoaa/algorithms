{
 "cells": [
  {
   "cell_type": "code",
   "execution_count": 2,
   "id": "7f29ef62-eba6-4886-83b8-1a24b4c8cc6a",
   "metadata": {},
   "outputs": [],
   "source": [
    "from typing import List"
   ]
  },
  {
   "cell_type": "markdown",
   "id": "d5577d62-9372-475f-8e0a-75341ed70f61",
   "metadata": {
    "tags": []
   },
   "source": [
    "#### Union Find\n",
    "\n",
    "1. Union find algo specification\n",
    "\n",
    "##### Examples\n",
    "\n",
    "1. [323 -> Number of connected componet](https://leetcode.com/problems/number-of-connected-components-in-an-undirected-graph/)"
   ]
  },
  {
   "cell_type": "code",
   "execution_count": 13,
   "id": "326f8037-3ba2-4392-a32b-014906f3e026",
   "metadata": {},
   "outputs": [
    {
     "name": "stdout",
     "output_type": "stream",
     "text": [
      "2\n"
     ]
    }
   ],
   "source": [
    "class solution:\n",
    "    def connectedComponents(self, n:int, edges: List[List[int]]) -> int:\n",
    "        par = [i for i in range(n)]\n",
    "        rank = [1] * n\n",
    "\n",
    "        def find(v1):\n",
    "            while v1!= par[v1]:\n",
    "                par[v1] = par[par[v1]]\n",
    "                v1 = par[v1]\n",
    "            return v1\n",
    "\n",
    "        def union(v1, v2):\n",
    "            p1,p2 = find(v1), find(v2)\n",
    "            r = 0\n",
    "            if p1 != p2:\n",
    "                r1, r2 = rank[p1], rank[p2]\n",
    "                r +=1\n",
    "                if r1>r2:\n",
    "                    par[p2] = p1\n",
    "                    rank[r1] += r2\n",
    "\n",
    "                elif r2>r1:\n",
    "                    par[p1] = p2\n",
    "                    rank[r2] +=r1\n",
    "            return r\n",
    "\n",
    "        res = n\n",
    "        for e1,e2 in edges:\n",
    "            res -= union(e1,e2)\n",
    "\n",
    "        return res\n",
    "\n",
    "print(solution().connectedComponents(5,[[1,2],[3,4],[0,1]]))"
   ]
  },
  {
   "cell_type": "code",
   "execution_count": null,
   "id": "b0e2805a-a6e7-4e6e-b479-550d00d2a463",
   "metadata": {},
   "outputs": [],
   "source": []
  }
 ],
 "metadata": {
  "kernelspec": {
   "display_name": "Python 3 (ipykernel)",
   "language": "python",
   "name": "python3"
  },
  "language_info": {
   "codemirror_mode": {
    "name": "ipython",
    "version": 3
   },
   "file_extension": ".py",
   "mimetype": "text/x-python",
   "name": "python",
   "nbconvert_exporter": "python",
   "pygments_lexer": "ipython3",
   "version": "3.9.12"
  }
 },
 "nbformat": 4,
 "nbformat_minor": 5
}
