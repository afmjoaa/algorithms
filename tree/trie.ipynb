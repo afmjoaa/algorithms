{
 "cells": [
  {
   "cell_type": "markdown",
   "id": "10d116d9-89c5-4a91-86eb-5c86dec33ba0",
   "metadata": {},
   "source": [
    "#### Trie/Prefix tree\n",
    "- definition feature .."
   ]
  },
  {
   "cell_type": "code",
   "execution_count": 2,
   "id": "9c7e0ca0-f70f-4558-b57b-f5d7be2a17a4",
   "metadata": {},
   "outputs": [],
   "source": [
    "class TrieNode:\n",
    "    def __init__(self):\n",
    "        self.children = {}\n",
    "        self.endOfWord = False"
   ]
  },
  {
   "cell_type": "code",
   "execution_count": null,
   "id": "837d4c4a-fc2e-4128-98cf-502124e9310b",
   "metadata": {},
   "outputs": [],
   "source": []
  }
 ],
 "metadata": {
  "kernelspec": {
   "display_name": "Python 3 (ipykernel)",
   "language": "python",
   "name": "python3"
  },
  "language_info": {
   "codemirror_mode": {
    "name": "ipython",
    "version": 3
   },
   "file_extension": ".py",
   "mimetype": "text/x-python",
   "name": "python",
   "nbconvert_exporter": "python",
   "pygments_lexer": "ipython3",
   "version": "3.9.12"
  }
 },
 "nbformat": 4,
 "nbformat_minor": 5
}
