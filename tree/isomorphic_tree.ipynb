{
 "cells": [
  {
   "cell_type": "markdown",
   "id": "9df58039-e578-42b5-9bb4-ae83888a8871",
   "metadata": {},
   "source": [
    "1. Root a tree\n",
    "2. Find the center of the tree\n",
    "3. Serialize the centered tree using AHU algorithm"
   ]
  }
 ],
 "metadata": {
  "kernelspec": {
   "display_name": "Python 3 (ipykernel)",
   "language": "python",
   "name": "python3"
  },
  "language_info": {
   "codemirror_mode": {
    "name": "ipython",
    "version": 3
   },
   "file_extension": ".py",
   "mimetype": "text/x-python",
   "name": "python",
   "nbconvert_exporter": "python",
   "pygments_lexer": "ipython3",
   "version": "3.9.12"
  }
 },
 "nbformat": 4,
 "nbformat_minor": 5
}
