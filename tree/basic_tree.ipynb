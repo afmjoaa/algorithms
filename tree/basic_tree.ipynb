{
 "cells": [
  {
   "cell_type": "markdown",
   "id": "dd43c0de-5ad3-480b-ba51-be82f9ce2ef3",
   "metadata": {},
   "source": [
    "#### Basic Tree\n",
    "- In case of trees buttom up approach will never work, always think in top-down recursive approach. Because we traverse tree from top to down, as there is no easy way to traverse tree from bottom up it's hard to think that way.\n",
    "- Always try to solve using nonlocal vaiables, then improve upon them."
   ]
  },
  {
   "cell_type": "code",
   "execution_count": null,
   "id": "659a67b1-301e-4c9d-98c9-95a376248567",
   "metadata": {},
   "outputs": [],
   "source": []
  }
 ],
 "metadata": {
  "kernelspec": {
   "display_name": "Python 3 (ipykernel)",
   "language": "python",
   "name": "python3"
  },
  "language_info": {
   "codemirror_mode": {
    "name": "ipython",
    "version": 3
   },
   "file_extension": ".py",
   "mimetype": "text/x-python",
   "name": "python",
   "nbconvert_exporter": "python",
   "pygments_lexer": "ipython3",
   "version": "3.9.12"
  }
 },
 "nbformat": 4,
 "nbformat_minor": 5
}
