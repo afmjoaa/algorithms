{
 "cells": [
  {
   "cell_type": "markdown",
   "id": "dd43c0de-5ad3-480b-ba51-be82f9ce2ef3",
   "metadata": {},
   "source": [
    "#### Basic Tree\n",
    "- In case of trees buttom up approach will never work, always think in top-down recursive approach. Because we traverse tree from top to down, as there is no easy way to traverse tree from bottom up it's hard to think that way.\n",
    "- Always try to solve using nonlocal vaiables, then improve upon them.\n",
    "- A tree where ever node have only two child is called binary tree.\n",
    "- A balanced binary tree is the binary tree where the depth of the two subtrees of every node never differ by more than 1. \n",
    "- A complete binary tree is a binary tree whose all levels except the last level are completely filled and all the leaves in the last level are all to the left side.\n",
    "- We can traverse trees in two way: \n",
    "    1. Depth First Search (DFS)\n",
    "    2. Breadth First Search (BFS)\n",
    "- DFS can be devided into tree sub catagories:\n",
    "    1. Inorder (left-node-right)\n",
    "    2. Preorder (node-left-right)\n",
    "    3. Postorder (left-right-node)\n",
    "- BFS is also known as level order traversal. Generally DEQue is used for level order traversal."
   ]
  },
  {
   "cell_type": "code",
   "execution_count": null,
   "id": "659a67b1-301e-4c9d-98c9-95a376248567",
   "metadata": {},
   "outputs": [],
   "source": []
  }
 ],
 "metadata": {
  "kernelspec": {
   "display_name": "Python 3 (ipykernel)",
   "language": "python",
   "name": "python3"
  },
  "language_info": {
   "codemirror_mode": {
    "name": "ipython",
    "version": 3
   },
   "file_extension": ".py",
   "mimetype": "text/x-python",
   "name": "python",
   "nbconvert_exporter": "python",
   "pygments_lexer": "ipython3",
   "version": "3.9.12"
  }
 },
 "nbformat": 4,
 "nbformat_minor": 5
}
