{
 "cells": [
  {
   "cell_type": "markdown",
   "id": "43f87cd9-8067-40cc-8270-d8a4abc18ef2",
   "metadata": {},
   "source": [
    "1. [167. Two Sum II - Input Array Is Sorted](https://leetcode.com/problems/two-sum-ii-input-array-is-sorted/)\n",
    "2. [15. 3Sum](https://leetcode.com/problems/3sum/)"
   ]
  },
  {
   "cell_type": "code",
   "execution_count": null,
   "id": "1506a072-ff6c-45c2-b3c1-61e859928a00",
   "metadata": {},
   "outputs": [],
   "source": [
    "def twoSum(self, numbers: List[int], target: int) -> List[int]:\n",
    "        \n",
    "        def search(nums: List[int], target: int) -> int:\n",
    "            left, right = 0, len(nums) -1 \n",
    "            while left <= right:\n",
    "                pivot = left + (right - left) //2\n",
    "                if nums[pivot] == target:\n",
    "                    return pivot\n",
    "                elif target < nums[pivot]:\n",
    "                    right = pivot -1\n",
    "                else:\n",
    "                    left = pivot +1\n",
    "\n",
    "            return -1\n",
    "        \n",
    "        \n",
    "        start = 1\n",
    "        for i in range(start, len(numbers)):\n",
    "            my_target = target - numbers[start-1]\n",
    "            search_result = search(numbers[start:], my_target)\n",
    "            if search_result != -1:\n",
    "                return [start, start+search_result+1]\n",
    "            start +=1"
   ]
  },
  {
   "cell_type": "code",
   "execution_count": null,
   "id": "67a2f85a-7e62-46ea-9cf6-89eeffd2ac79",
   "metadata": {},
   "outputs": [],
   "source": [
    "def twoSum(self, numbers: List[int], target: int) -> List[int]:\n",
    "        l, r = 0, len(numbers)-1\n",
    "        \n",
    "        while l<r:\n",
    "            s = numbers[l] + numbers[r]\n",
    "            if s == target:\n",
    "                return [l+1, r+1]\n",
    "            elif s > target:\n",
    "                r-=1\n",
    "            else:\n",
    "                l+=1"
   ]
  }
 ],
 "metadata": {
  "kernelspec": {
   "display_name": "Python 3 (ipykernel)",
   "language": "python",
   "name": "python3"
  },
  "language_info": {
   "codemirror_mode": {
    "name": "ipython",
    "version": 3
   },
   "file_extension": ".py",
   "mimetype": "text/x-python",
   "name": "python",
   "nbconvert_exporter": "python",
   "pygments_lexer": "ipython3",
   "version": "3.9.12"
  }
 },
 "nbformat": 4,
 "nbformat_minor": 5
}
