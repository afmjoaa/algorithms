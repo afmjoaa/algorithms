{
 "cells": [
  {
   "cell_type": "markdown",
   "id": "7fd90f33-478b-4496-ba97-eb4925623305",
   "metadata": {},
   "source": [
    "#### longest common subsequence DP -> While storing previous step 2D array or data structure is needed\n",
    "\n",
    "- write features of longest common subsequence DP\n",
    "\n",
    "##### Examples\n",
    "\n",
    "1. [1143 -> Longest Common Subsequence](https://leetcode.com/problems/longest-common-subsequence/) \n",
    "2. [300 -> Longest Increasing Subsequence](https://leetcode.com/problems/longest-increasing-subsequence/)\n",
    "---"
   ]
  },
  {
   "cell_type": "code",
   "execution_count": null,
   "id": "199d4502-b35d-475b-b5be-889042406856",
   "metadata": {},
   "outputs": [],
   "source": []
  }
 ],
 "metadata": {
  "kernelspec": {
   "display_name": "Python 3 (ipykernel)",
   "language": "python",
   "name": "python3"
  },
  "language_info": {
   "codemirror_mode": {
    "name": "ipython",
    "version": 3
   },
   "file_extension": ".py",
   "mimetype": "text/x-python",
   "name": "python",
   "nbconvert_exporter": "python",
   "pygments_lexer": "ipython3",
   "version": "3.9.12"
  }
 },
 "nbformat": 4,
 "nbformat_minor": 5
}
