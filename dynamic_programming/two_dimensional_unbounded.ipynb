{
 "cells": [
  {
   "cell_type": "markdown",
   "id": "b959a354-6350-44f8-beb9-c83f9910a00b",
   "metadata": {},
   "source": [
    "#### two dimensional unbounded DP -> While storing previous step 2D array or data structure is needed\n",
    "\n",
    "- write features of 2D unbounded DP\n",
    "\n",
    "##### Examples\n",
    "\n",
    "1. [322 -> Coin Change](https://leetcode.com/problems/coin-change/) \n",
    "2. [518 -> Coin Change 2](https://leetcode.com/problems/coin-change-2/)\n",
    "---"
   ]
  },
  {
   "cell_type": "code",
   "execution_count": null,
   "id": "0d61633d-4023-44af-8bfa-995491d519de",
   "metadata": {},
   "outputs": [],
   "source": []
  }
 ],
 "metadata": {
  "kernelspec": {
   "display_name": "Python 3 (ipykernel)",
   "language": "python",
   "name": "python3"
  },
  "language_info": {
   "codemirror_mode": {
    "name": "ipython",
    "version": 3
   },
   "file_extension": ".py",
   "mimetype": "text/x-python",
   "name": "python",
   "nbconvert_exporter": "python",
   "pygments_lexer": "ipython3",
   "version": "3.9.12"
  }
 },
 "nbformat": 4,
 "nbformat_minor": 5
}
