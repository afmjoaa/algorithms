{
 "cells": [
  {
   "cell_type": "markdown",
   "id": "e0e3c520-983c-495f-a105-0b565a63f91d",
   "metadata": {},
   "source": [
    "#### Greedy -> As much as you can, as ofter as you can\n",
    "\n",
    "- Greedy choice property (choosing greedily locally can give global optimal solution)\n",
    "- Optimal substructure property (can be devided into small similar problems)\n",
    "\n",
    "##### Examples\n",
    "\n",
    "1. [55 -> Jump game](https://leetcode.com/problems/jump-game/) \n",
    "2. [11 -> Container with most water](https://leetcode.com/problems/container-with-most-water/)\n",
    "3. [134 -> Gas station](https://leetcode.com/problems/gas-station/)\n"
   ]
  },
  {
   "cell_type": "markdown",
   "id": "67d65ec0-20a1-4f5e-af80-2e3d63fb2d50",
   "metadata": {},
   "source": [
    "#### Jump Game Solutions\n",
    "1. DP -- O(n^n)\n",
    "2. DP with Memorization/TDP -- O(n^2)\n",
    "3. Greedy O(n)"
   ]
  },
  {
   "cell_type": "code",
   "execution_count": null,
   "id": "bc56442d-9980-4405-8635-36387d77cf8b",
   "metadata": {},
   "outputs": [],
   "source": []
  }
 ],
 "metadata": {
  "kernelspec": {
   "display_name": "Python 3 (ipykernel)",
   "language": "python",
   "name": "python3"
  },
  "language_info": {
   "codemirror_mode": {
    "name": "ipython",
    "version": 3
   },
   "file_extension": ".py",
   "mimetype": "text/x-python",
   "name": "python",
   "nbconvert_exporter": "python",
   "pygments_lexer": "ipython3",
   "version": "3.9.12"
  }
 },
 "nbformat": 4,
 "nbformat_minor": 5
}
