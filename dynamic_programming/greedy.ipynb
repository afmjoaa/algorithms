{
 "cells": [
  {
   "cell_type": "markdown",
   "id": "e0e3c520-983c-495f-a105-0b565a63f91d",
   "metadata": {},
   "source": [
    "#### Greedy -> As much as you can, as ofter as you can\n",
    "\n",
    "- Greedy choice property (choosing greedily locally can give global optimal solution)\n",
    "- Optimal substructure property (can be devided into small similar problems)\n",
    "- Greedy solutions will have one unique solution most of the time and time complexity is generaly O(n)\n",
    "\n",
    "##### Examples\n",
    "\n",
    "1. [55 -> Jump game](https://leetcode.com/problems/jump-game/) \n",
    "2. [11 -> Container with most water](https://leetcode.com/problems/container-with-most-water/)\n",
    "3. [134 -> Gas station](https://leetcode.com/problems/gas-station/)\n",
    "---"
   ]
  },
  {
   "cell_type": "markdown",
   "id": "67d65ec0-20a1-4f5e-af80-2e3d63fb2d50",
   "metadata": {},
   "source": [
    "#### Jump Game Solutions\n",
    "1. Top Down DP without Memorization -- O(n^n)\n",
    "2. Top Down DP with Memorization -- O(n^2)\n",
    "3. Bottom Up/True DP -- O(n^2)\n",
    "4. Greedy O(n)"
   ]
  },
  {
   "cell_type": "markdown",
   "id": "3a5ac839-510c-460d-af39-9d0af3fcb259",
   "metadata": {},
   "source": [
    "---\n",
    "Top down DP without memoization approach  \n",
    "Time complexity -> O(n^n)  \n",
    "Memory complexity -> O(n)\n",
    "\n",
    "This approach will result is following exception:\n",
    "- Stack overflow\n",
    "- Time limit exception\n",
    "\n",
    "Interesting thing to notice here is we can't back propagate result in Top down DP, for example we can't return from the for loop as then the recursion will stop"
   ]
  },
  {
   "cell_type": "code",
   "execution_count": 8,
   "id": "5ce90391-8304-485f-aee6-a0980135a259",
   "metadata": {},
   "outputs": [
    {
     "name": "stdout",
     "output_type": "stream",
     "text": [
      "can jump [3,2,1,0,4]: True\n"
     ]
    }
   ],
   "source": [
    "def canJump(nums: list[int]) -> bool:\n",
    "    dp = [None for i in range(len(nums))]\n",
    "    \n",
    "    def dfs(i):\n",
    "        if i+nums[i] >= len(nums)-1:\n",
    "            dp[i] = True\n",
    "            return True \n",
    "        elif nums[i] == 0:\n",
    "            dp[i] = False\n",
    "            return False\n",
    "        \n",
    "        for j in range(i+1, i+nums[i]+1):\n",
    "            val = dfs(j)\n",
    "            if val is None:\n",
    "                for k in range(i+1, i+nums[i]+1):\n",
    "                    if dp[k] is not None:\n",
    "                        val = dp[k] if val != True else True\n",
    "            \n",
    "            # print(f'i->{i} :j->{j}:{nums[j]} : {val}')\n",
    "            \n",
    "            dp[i] = val if dp[i] != True else True\n",
    "            \n",
    "            #return dp[i] can't do that as then the recursion will stop\n",
    "              \n",
    "    dfs(0)\n",
    "    return dp[0]\n",
    "\n",
    "print(f'can jump [3,2,1,0,4]: {canJump([3,2,1,1,1,4])}')  "
   ]
  },
  {
   "cell_type": "markdown",
   "id": "a26c7248-cffc-4844-89f3-fd9f0da42068",
   "metadata": {},
   "source": [
    "---\n",
    "Top down DP with memoization approach  \n",
    "Time complexity -> O(n^2)  \n",
    "Memory complexity -> O(n)\n",
    "\n",
    "This approach will result is following exception:\n",
    "- Stack overflow\n",
    "- Time limit exception\n",
    "\n",
    "This approach is far more better just by adding memoization,\n",
    "\n",
    ">`if dp[i] is not None:`  \n",
    ">`    return dp[i]`\n"
   ]
  },
  {
   "cell_type": "code",
   "execution_count": 2,
   "id": "bc56442d-9980-4405-8635-36387d77cf8b",
   "metadata": {},
   "outputs": [
    {
     "name": "stdout",
     "output_type": "stream",
     "text": [
      "can jump [3,2,1,0,4]: False\n"
     ]
    }
   ],
   "source": [
    "def canJump(nums: list[int]) -> bool:\n",
    "    dp = [None for i in range(len(nums))]\n",
    "    \n",
    "    def dfs(i):\n",
    "        if dp[i] is not None:\n",
    "            return dp[i]\n",
    "        if i+nums[i] >= len(nums)-1:\n",
    "            dp[i] = True\n",
    "            return True \n",
    "        elif nums[i] == 0:\n",
    "            dp[i] = False\n",
    "            return False\n",
    "        \n",
    "        for j in range(i+1, i+nums[i]+1):\n",
    "            val = dfs(j)\n",
    "            \n",
    "            # if val is None:\n",
    "            #     for k in range(i+1, i+nums[i]+1):\n",
    "            #         if dp[k] is not None:\n",
    "            #             val = dp[k] if val != True else True\n",
    "            \n",
    "            # print(f'i->{i} :j->{j}:{nums[j]} : {val}')\n",
    "            \n",
    "            dp[i] = val if dp[i] != True else True\n",
    "            \n",
    "            #return dp[i] can't do that as then the recursion will stop\n",
    "              \n",
    "    dfs(0)\n",
    "    return dp[0]\n",
    "\n",
    "print(f'can jump [3,2,1,0,4]: {canJump([3,2,1,0,4])}')        "
   ]
  },
  {
   "cell_type": "markdown",
   "id": "8b81086f-77fa-4f5c-93b7-d636108871f9",
   "metadata": {},
   "source": [
    "---\n",
    "Buttom up approach/True dynamic programming  \n",
    "Time complexity -> O(n^2)  \n",
    "Memory complexity -> O(n)\n",
    "\n",
    "This approach will result in following exception:\n",
    "- Time limit exception"
   ]
  },
  {
   "cell_type": "code",
   "execution_count": 6,
   "id": "1da2fff8-a23a-4b75-9912-793da57f22d8",
   "metadata": {},
   "outputs": [
    {
     "name": "stdout",
     "output_type": "stream",
     "text": [
      "can jump [3,2,1,0,4]: False\n"
     ]
    }
   ],
   "source": [
    "def canJump(nums: list[int]) -> bool:\n",
    "    dp = [False for i in range(len(nums))]\n",
    "    goal = len(nums)-1\n",
    "\n",
    "    for i in range(goal, -1, -1):\n",
    "        if i + nums[i] >= goal:\n",
    "            dp[i] = True\n",
    "\n",
    "        for k in range(i, i+nums[i]+1):\n",
    "            if k<len(nums) and dp[k] == True:\n",
    "                dp[i] = True\n",
    "\n",
    "    return dp[0]\n",
    "\n",
    "print(f'can jump [3,2,1,0,4]: {canJump([3,2,1,0,4])}')"
   ]
  },
  {
   "cell_type": "markdown",
   "id": "55b36991-95e4-4fde-b53d-fb061cfab933",
   "metadata": {},
   "source": [
    "---\n",
    "Greedy approach  \n",
    "Time complexity -> O(n)  \n",
    "Memory complexity -> O(1)\n",
    "\n",
    "This is the accepted approach"
   ]
  },
  {
   "cell_type": "code",
   "execution_count": 8,
   "id": "440080ff-30df-4cb2-902a-3f852993f727",
   "metadata": {},
   "outputs": [
    {
     "name": "stdout",
     "output_type": "stream",
     "text": [
      "can jump [3,2,1,0,4]: False\n"
     ]
    }
   ],
   "source": [
    "def canJump(nums: list[int]) -> bool:    \n",
    "    goal = len(nums)-1\n",
    "    \n",
    "    for i in range(len(nums)-1, -1, -1):\n",
    "        if i + nums[i] >= goal:\n",
    "            goal = i\n",
    "            \n",
    "    return True if goal==0 else False\n",
    "\n",
    "print(f'can jump [3,2,1,0,4]: {canJump([3,2,1,0,4])}')"
   ]
  },
  {
   "cell_type": "markdown",
   "id": "758a5527-ece4-467c-bd4a-f06e6d4351e3",
   "metadata": {},
   "source": [
    "---\n",
    "---\n",
    "#### Container with most water solutions\n",
    "1. Brute force (Actually DP is also a kind of brute force) O(n^2)\n",
    "4. Greedy O(n)"
   ]
  },
  {
   "cell_type": "markdown",
   "id": "8a0e5fa9-7dea-4088-a2dd-2f184e21e1e1",
   "metadata": {},
   "source": [
    "---\n",
    "Brute force approach  \n",
    "Time complexity -> O(n^2)  \n",
    "Memory complexity -> O(1)\n",
    "\n",
    "This approach will result in following exception:\n",
    "- Time limit exception"
   ]
  },
  {
   "cell_type": "code",
   "execution_count": 10,
   "id": "5896994e-0179-480f-bf85-83b5763ba788",
   "metadata": {},
   "outputs": [
    {
     "name": "stdout",
     "output_type": "stream",
     "text": [
      "Max area [1,8,6,2,5,4,8,3,7]: 49\n"
     ]
    }
   ],
   "source": [
    "def maxArea(height: list[int]) -> int:\n",
    "    max_area = 0\n",
    "        \n",
    "    for start in range(len(height)):\n",
    "        for end in range(start+1, len(height)):\n",
    "            max_area = max(max_area, min(height[start], height[end]) * (end-start))\n",
    "        \n",
    "    return max_area\n",
    "\n",
    "print(f'Max area [1,8,6,2,5,4,8,3,7]: {maxArea([1,8,6,2,5,4,8,3,7])}')"
   ]
  },
  {
   "cell_type": "markdown",
   "id": "988ce301-3e57-406e-9cd2-1ee87a8e0a35",
   "metadata": {},
   "source": [
    "---\n",
    "Greedy approach  \n",
    "Time complexity -> O(n)  \n",
    "Memory complexity -> O(1)\n",
    "\n",
    "This is the accepted approach"
   ]
  },
  {
   "cell_type": "code",
   "execution_count": 9,
   "id": "ca248395-aaa1-49e1-b50a-e115f77ce830",
   "metadata": {},
   "outputs": [
    {
     "name": "stdout",
     "output_type": "stream",
     "text": [
      "Max area [1,8,6,2,5,4,8,3,7]: 49\n"
     ]
    }
   ],
   "source": [
    "def maxArea(height: list[int]) -> int:\n",
    "    max_area = 0\n",
    "    start, end = 0, len(height)-1\n",
    "\n",
    "    while start<end:\n",
    "        max_area = max(max_area, min(height[start], height[end]) * (end-start))\n",
    "\n",
    "        if height[start] > height[end]:\n",
    "            end -= 1\n",
    "        else:\n",
    "            start +=1\n",
    "\n",
    "    return max_area\n",
    "\n",
    "print(f'Max area [1,8,6,2,5,4,8,3,7]: {maxArea([1,8,6,2,5,4,8,3,7])}')"
   ]
  },
  {
   "cell_type": "markdown",
   "id": "3c6d87a0-115f-48ef-ae88-f6c4e00d3bb1",
   "metadata": {},
   "source": [
    "---\n",
    "---\n",
    "#### Gas station solutions\n",
    "1. Brute force (Actually DP is also a kind of brute force) O(n^2)\n",
    "4. Greedy O(n)"
   ]
  },
  {
   "cell_type": "markdown",
   "id": "9cc41dae-4d00-4aa8-90cc-548743a0cf73",
   "metadata": {},
   "source": [
    "---\n",
    "Brute force approach  \n",
    "Time complexity -> O(n^2)  \n",
    "Memory complexity -> O(1)\n",
    "\n",
    "This approach will result in following exception:\n",
    "- Time limit exception"
   ]
  },
  {
   "cell_type": "code",
   "execution_count": 14,
   "id": "7d1bf552-6b46-460f-887e-fbc36c3db069",
   "metadata": {},
   "outputs": [
    {
     "name": "stdout",
     "output_type": "stream",
     "text": [
      "Result : 3\n"
     ]
    }
   ],
   "source": [
    "def canCompleteCircuit(gas: list[int], cost: list[int]) -> int:\n",
    "    res = 0\n",
    "    total = 0\n",
    "    station_count = len(gas)\n",
    "\n",
    "    for i in range(station_count):\n",
    "        for j in range(station_count):\n",
    "            item = (i+j)%station_count\n",
    "            total += gas[item] - cost[item]\n",
    "\n",
    "            if total < 0:\n",
    "                total = 0\n",
    "                res = i+1\n",
    "                break  \n",
    "            elif j == station_count-1:\n",
    "                return res\n",
    "\n",
    "    return -1\n",
    "\n",
    "print(f'Result : {canCompleteCircuit([1,2,3,4,5],[3,4,5,1,2])}')"
   ]
  },
  {
   "cell_type": "markdown",
   "id": "0ac3218e-41d1-4276-b9c3-de363f736b41",
   "metadata": {},
   "source": [
    "---\n",
    "Greedy approach  \n",
    "Time complexity -> O(n)  \n",
    "Memory complexity -> O(1)\n",
    "\n",
    "This is the accepted approach"
   ]
  },
  {
   "cell_type": "code",
   "execution_count": 12,
   "id": "81e97211-cd0d-4602-b0b0-31d65aa5a586",
   "metadata": {},
   "outputs": [
    {
     "name": "stdout",
     "output_type": "stream",
     "text": [
      "Result : 3\n"
     ]
    }
   ],
   "source": [
    "def canCompleteCircuit(gas: list[int], cost: list[int]) -> int:\n",
    "    if sum(gas) < sum(cost):\n",
    "        return -1\n",
    "\n",
    "    res = 0\n",
    "    total = 0\n",
    "\n",
    "    for i in range(len(gas)):\n",
    "        total += gas[i] - cost[i]\n",
    "\n",
    "        if total < 0:\n",
    "            total = 0\n",
    "            res = i+1\n",
    "\n",
    "    return res\n",
    "\n",
    "print(f'Result : {canCompleteCircuit([1,2,3,4,5],[3,4,5,1,2])}')"
   ]
  }
 ],
 "metadata": {
  "kernelspec": {
   "display_name": "Python 3 (ipykernel)",
   "language": "python",
   "name": "python3"
  },
  "language_info": {
   "codemirror_mode": {
    "name": "ipython",
    "version": 3
   },
   "file_extension": ".py",
   "mimetype": "text/x-python",
   "name": "python",
   "nbconvert_exporter": "python",
   "pygments_lexer": "ipython3",
   "version": "3.9.12"
  }
 },
 "nbformat": 4,
 "nbformat_minor": 5
}
