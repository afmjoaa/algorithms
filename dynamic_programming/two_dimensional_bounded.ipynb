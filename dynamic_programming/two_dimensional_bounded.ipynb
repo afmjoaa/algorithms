{
 "cells": [
  {
   "cell_type": "markdown",
   "id": "94d9cb1a-411c-4ad4-82a2-4f4f2ecb416c",
   "metadata": {},
   "source": [
    "#### two dimensional bounded DP -> While storing previous step 2D array or data structure is needed\n",
    "\n",
    "- write features of 2D bounded DP\n",
    "\n",
    "##### Examples\n",
    "\n",
    "1. [416 -> Partition Equal Subset Sum](https://leetcode.com/problems/partition-equal-subset-sum/) \n",
    "2. [494 -> Target Sum](https://leetcode.com/problems/target-sum/)\n",
    "---"
   ]
  },
  {
   "cell_type": "code",
   "execution_count": null,
   "id": "7e5c3e3c-7472-42db-abed-cec44f488b63",
   "metadata": {},
   "outputs": [],
   "source": []
  }
 ],
 "metadata": {
  "kernelspec": {
   "display_name": "Python 3 (ipykernel)",
   "language": "python",
   "name": "python3"
  },
  "language_info": {
   "codemirror_mode": {
    "name": "ipython",
    "version": 3
   },
   "file_extension": ".py",
   "mimetype": "text/x-python",
   "name": "python",
   "nbconvert_exporter": "python",
   "pygments_lexer": "ipython3",
   "version": "3.9.12"
  }
 },
 "nbformat": 4,
 "nbformat_minor": 5
}
