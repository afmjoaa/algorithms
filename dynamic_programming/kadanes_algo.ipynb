{
 "cells": [
  {
   "cell_type": "markdown",
   "id": "fd6d7c21-644d-4110-99c8-cf3f46f12bc7",
   "metadata": {},
   "source": [
    "#### Kadane's algorithm \n",
    "\n",
    "- Kadanes's algorithm is a type of dynamic programming, in dynamic programming we depend on the previous steps of the problem, in other word sub problems. Kadane's algorithm is no difference.\n",
    "- In Kadane's algorithm we keep track of two variable MEH(Maximum Ending Here), and MSF(Maximum so Far).\n",
    "\n",
    "##### Examples\n",
    "\n",
    "1. [53. Maximum Subarray](https://leetcode.com/problems/maximum-subarray/)  \n",
    "2. [918. Maximum Sum Circular Subarray](https://leetcode.com/problems/maximum-sum-circular-subarray/)\n",
    "---"
   ]
  },
  {
   "cell_type": "markdown",
   "id": "57c1cf3b-211a-4e5c-bfd9-6aec381a5026",
   "metadata": {},
   "source": []
  }
 ],
 "metadata": {
  "kernelspec": {
   "display_name": "Python 3 (ipykernel)",
   "language": "python",
   "name": "python3"
  },
  "language_info": {
   "codemirror_mode": {
    "name": "ipython",
    "version": 3
   },
   "file_extension": ".py",
   "mimetype": "text/x-python",
   "name": "python",
   "nbconvert_exporter": "python",
   "pygments_lexer": "ipython3",
   "version": "3.9.12"
  }
 },
 "nbformat": 4,
 "nbformat_minor": 5
}
