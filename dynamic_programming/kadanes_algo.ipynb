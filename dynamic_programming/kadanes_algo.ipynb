{
 "cells": [
  {
   "cell_type": "markdown",
   "id": "fd6d7c21-644d-4110-99c8-cf3f46f12bc7",
   "metadata": {},
   "source": [
    "#### Kadane's algorithm/Maximum subarray -> \n",
    "\n",
    "- write features of Kadane's algorithm/Maximum subarray\n",
    "\n",
    "##### Examples\n",
    "\n",
    "1. [53 -> Maximum Subarray](https://leetcode.com/problems/maximum-subarray/)  \n",
    "---"
   ]
  },
  {
   "cell_type": "code",
   "execution_count": null,
   "id": "1291ef91-b602-40df-bba1-e285c7fd73a3",
   "metadata": {},
   "outputs": [],
   "source": []
  }
 ],
 "metadata": {
  "kernelspec": {
   "display_name": "Python 3 (ipykernel)",
   "language": "python",
   "name": "python3"
  },
  "language_info": {
   "codemirror_mode": {
    "name": "ipython",
    "version": 3
   },
   "file_extension": ".py",
   "mimetype": "text/x-python",
   "name": "python",
   "nbconvert_exporter": "python",
   "pygments_lexer": "ipython3",
   "version": "3.9.12"
  }
 },
 "nbformat": 4,
 "nbformat_minor": 5
}
