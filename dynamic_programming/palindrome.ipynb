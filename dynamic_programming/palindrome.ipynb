{
 "cells": [
  {
   "cell_type": "markdown",
   "id": "62aae622-a24b-49a5-8953-51c15e580357",
   "metadata": {},
   "source": [
    "#### palindrome DP -> \n",
    "\n",
    "- write features of palindrome DP\n",
    "\n",
    "##### Examples\n",
    "\n",
    "1. [5. Longest Palindromic Substring](https://leetcode.com/problems/longest-palindromic-substring/) \n",
    "2. [647. Palindromic Substrings](https://leetcode.com/problems/palindromic-substrings/)\n",
    "---"
   ]
  },
  {
   "cell_type": "code",
   "execution_count": null,
   "id": "5f133e42-0591-4b47-aa8d-57be7eb44abd",
   "metadata": {},
   "outputs": [],
   "source": []
  }
 ],
 "metadata": {
  "kernelspec": {
   "display_name": "Python 3 (ipykernel)",
   "language": "python",
   "name": "python3"
  },
  "language_info": {
   "codemirror_mode": {
    "name": "ipython",
    "version": 3
   },
   "file_extension": ".py",
   "mimetype": "text/x-python",
   "name": "python",
   "nbconvert_exporter": "python",
   "pygments_lexer": "ipython3",
   "version": "3.9.12"
  }
 },
 "nbformat": 4,
 "nbformat_minor": 5
}
