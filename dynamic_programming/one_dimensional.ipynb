{
 "cells": [
  {
   "cell_type": "markdown",
   "id": "2509329c-3360-495d-a7d3-dfebd24699db",
   "metadata": {},
   "source": [
    "#### one dimensional DP -> While storing previous step 1D array or data structure is good enough\n",
    "\n",
    "- write features of 1D DP\n",
    "\n",
    "##### Examples\n",
    "\n",
    "1. [1911 -> Maximum Alternating Subsequence Sum](https://leetcode.com/problems/maximum-alternating-subsequence-sum/) \n",
    "2. [198 -> House Robber](https://leetcode.com/problems/house-robber/)\n",
    "---"
   ]
  },
  {
   "cell_type": "markdown",
   "id": "a974b93e-a3e5-432d-9714-f1bdecc79aaa",
   "metadata": {},
   "source": [
    "#### Maximum Alternating subsequence solutions\n",
    "1. Top Down DP without Memorization --  \n",
    "2. Top Down DP with Memorization --  \n",
    "3. Bottom Up/True DP --   "
   ]
  },
  {
   "cell_type": "code",
   "execution_count": null,
   "id": "daa5e272-8552-4622-9b4d-1a1c0b82233a",
   "metadata": {},
   "outputs": [],
   "source": []
  }
 ],
 "metadata": {
  "kernelspec": {
   "display_name": "Python 3 (ipykernel)",
   "language": "python",
   "name": "python3"
  },
  "language_info": {
   "codemirror_mode": {
    "name": "ipython",
    "version": 3
   },
   "file_extension": ".py",
   "mimetype": "text/x-python",
   "name": "python",
   "nbconvert_exporter": "python",
   "pygments_lexer": "ipython3",
   "version": "3.9.12"
  }
 },
 "nbformat": 4,
 "nbformat_minor": 5
}
